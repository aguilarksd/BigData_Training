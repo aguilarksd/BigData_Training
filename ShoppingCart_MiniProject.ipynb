{
  "nbformat": 4,
  "nbformat_minor": 0,
  "metadata": {
    "colab": {
      "provenance": [],
      "authorship_tag": "ABX9TyMLrp3SY0YNq8WugjsbO5FD",
      "include_colab_link": true
    },
    "kernelspec": {
      "name": "python3",
      "display_name": "Python 3"
    },
    "language_info": {
      "name": "python"
    }
  },
  "cells": [
    {
      "cell_type": "markdown",
      "metadata": {
        "id": "view-in-github",
        "colab_type": "text"
      },
      "source": [
        "<a href=\"https://colab.research.google.com/github/aguilarksd/BigData_Training/blob/master/ShoppingCart_MiniProject.ipynb\" target=\"_parent\"><img src=\"https://colab.research.google.com/assets/colab-badge.svg\" alt=\"Open In Colab\"/></a>"
      ]
    },
    {
      "cell_type": "markdown",
      "source": [
        "Import the sys module to allow exiting the program"
      ],
      "metadata": {
        "id": "vI_2auiYNWYe"
      }
    },
    {
      "cell_type": "code",
      "execution_count": 1,
      "metadata": {
        "id": "kXNK3cUUCwR9"
      },
      "outputs": [],
      "source": [
        "import sys"
      ]
    },
    {
      "cell_type": "markdown",
      "source": [],
      "metadata": {
        "id": "DrTy2Y9FPujK"
      }
    },
    {
      "cell_type": "markdown",
      "source": [
        "Displays:\n",
        "\n",
        "*   Available items\n",
        "*   Quantities\n",
        "*   Prices"
      ],
      "metadata": {
        "id": "8bq-qVDKNaeZ"
      }
    },
    {
      "cell_type": "code",
      "source": [
        "def display_menu(inventory):\n",
        "    print(\"\\n--- Available Items ---\")\n",
        "    # Print table header with formatting\n",
        "    print(\"{:<15} {:<10} {:<10}\".format(\"Item\", \"Price (Rs)\", \"Quantity\"))\n",
        "    print(\"-\" * 35)\n",
        "    # Iterate through the inventory and print each item's details\n",
        "    for item, details in inventory.items():\n",
        "        print(\"{:<15} {:<10.2f} {:<10}\".format(item.capitalize(), details['price'], details['quantity']))\n",
        "    print(\"-\" * 35)"
      ],
      "metadata": {
        "id": "aSFLDSrYFnRc"
      },
      "execution_count": 8,
      "outputs": []
    },
    {
      "cell_type": "markdown",
      "source": [
        "Allows the customer to select items and quantities\n",
        "\n",
        "Handling stock checks and updating the inventory.\n",
        "\n",
        "Returns a dictionary of items added to the customer's cart."
      ],
      "metadata": {
        "id": "GkFMKdN5NlFc"
      }
    },
    {
      "cell_type": "code",
      "source": [
        "def get_customer_order(inventory):\n",
        "    cart = {} # Initialize an empty dictionary to store the customer's cart\n",
        "    while True:\n",
        "        # Get item name input from the customer\n",
        "        item_name = input(\"Enter item name (or 'done' to finish): \").strip().lower()\n",
        "        if item_name == 'done':\n",
        "            break # Exit the loop if the customer enters 'done'\n",
        "\n",
        "        # Check if the entered item name is in the inventory\n",
        "        if item_name not in inventory:\n",
        "            print(f\"'{item_name}' is not a valid item. Please try again.\")\n",
        "            continue # Continue to the next iteration if the item is not valid\n",
        "\n",
        "        item_details = inventory[item_name]\n",
        "        available_quantity = item_details['quantity']\n",
        "\n",
        "        # Check if the item is out of stock\n",
        "        if available_quantity == 0:\n",
        "            print(f\"Sorry, '{item_name.capitalize()}' is currently out of stock.\")\n",
        "            continue # Continue to the next iteration if the item is out of stock\n",
        "\n",
        "        try:\n",
        "            # Get the desired quantity from the customer\n",
        "            quantity_requested = int(input(f\"Enter quantity for {item_name.capitalize()}: \"))\n",
        "            # Check if the requested quantity is positive\n",
        "            if quantity_requested <= 0:\n",
        "                print(\"Quantity must be a positive number. Please try again.\")\n",
        "                continue # Continue to the next iteration if the quantity is not positive\n",
        "        except ValueError:\n",
        "            print(\"Invalid quantity. Please enter a number.\")\n",
        "            continue # Continue to the next iteration if the input is not a number\n",
        "\n",
        "        # Check if the requested quantity is more than available\n",
        "        if quantity_requested > available_quantity:\n",
        "            print(f\"Sorry, only {available_quantity} units of '{item_name.capitalize()}' are available.\")\n",
        "            confirm = input(\"Would you like to purchase the available quantity? (yes/no): \").strip().lower()\n",
        "            if confirm == 'yes':\n",
        "                quantity_to_add = available_quantity # Add the available quantity if confirmed\n",
        "            else:\n",
        "                print(\"Item not added to cart.\")\n",
        "                continue # Continue to the next iteration if not confirmed\n",
        "        else:\n",
        "            quantity_to_add = quantity_requested # Add the requested quantity if available\n",
        "\n",
        "        # Add the item to the cart or update the quantity if the item is already in the cart\n",
        "        if item_name in cart:\n",
        "            cart[item_name]['quantity'] += quantity_to_add\n",
        "        else:\n",
        "            cart[item_name] = {'price': item_details['price'], 'quantity': quantity_to_add}\n",
        "\n",
        "        # Update the inventory by reducing the quantity of the purchased item\n",
        "        inventory[item_name]['quantity'] -= quantity_to_add\n",
        "        print(f\"{quantity_to_add} x {item_name.capitalize()} added to your cart.\")\n",
        "    return cart # Return the customer's cart"
      ],
      "metadata": {
        "id": "AzAd-skqFsNn"
      },
      "execution_count": 2,
      "outputs": []
    },
    {
      "cell_type": "markdown",
      "source": [
        "Collects:\n",
        "  * Customer's name\n",
        "  * Address\n",
        "  * Delivery distance.\n",
        "\n",
        "Returns a dictionary of customer details."
      ],
      "metadata": {
        "id": "o_DXHChYNwdi"
      }
    },
    {
      "cell_type": "code",
      "source": [
        "def get_customer_details():\n",
        "    print(\"\\n--- Customer Details ---\")\n",
        "    name = input(\"Enter your full name: \").strip() # Get customer's full name\n",
        "    address = input(\"Enter your delivery address: \").strip() # Get customer's delivery address\n",
        "    while True:\n",
        "        try:\n",
        "            # Get delivery distance from the customer\n",
        "            distance_str = input(\"Enter delivery distance from store in km: \").strip()\n",
        "            distance = float(distance_str) # Convert the input to a float\n",
        "            # Check if the distance is non-negative\n",
        "            if distance < 0:\n",
        "                print(\"Distance cannot be negative. Please enter a valid distance.\")\n",
        "                continue # Continue to the next iteration if distance is negative\n",
        "            break # Exit the loop if a valid distance is entered\n",
        "        except ValueError:\n",
        "            print(\"Invalid distance. Please enter a number.\") # Handle non-numeric input\n",
        "    return {'name': name, 'address': address, 'distance': distance} # Return customer details as a dictionary"
      ],
      "metadata": {
        "id": "6P5ySI34FxoZ"
      },
      "execution_count": 3,
      "outputs": []
    },
    {
      "cell_type": "markdown",
      "source": [
        "Calculates delivery charges based on the delivery distance.\n",
        "\n",
        "Returns the calculated charge or None if delivery is not available for the given distance."
      ],
      "metadata": {
        "id": "4hKE1sNfN1cm"
      }
    },
    {
      "cell_type": "code",
      "source": [
        "def calculate_delivery_charge(distance):\n",
        "    if 0 <= distance <= 15:\n",
        "        return 50 # Delivery charge for distance up to 15 km\n",
        "    elif 15 < distance <= 30:\n",
        "        return 100 # Delivery charge for distance between 15 and 30 km\n",
        "    else:\n",
        "        return None # No delivery available for distances greater than 30 km"
      ],
      "metadata": {
        "id": "u38eXLsvF2A0"
      },
      "execution_count": 4,
      "outputs": []
    },
    {
      "cell_type": "markdown",
      "source": [
        " Displays the final bill including purchased items, customer information, and the total cost."
      ],
      "metadata": {
        "id": "mdyg9tg9N9dZ"
      }
    },
    {
      "cell_type": "code",
      "source": [
        "def generate_bill(cart, customer_details, delivery_charge):\n",
        "    print(\"\\n\" + \"=\"*40)\n",
        "    print(\"         --- FINAL BILL ---\")\n",
        "    print(\"=\"*40)\n",
        "\n",
        "    print(\"\\nCustomer Details:\")\n",
        "    # Print customer details\n",
        "    print(f\"Name: {customer_details['name']}\")\n",
        "    print(f\"Address: {customer_details['address']}\")\n",
        "    print(f\"Delivery Distance: {customer_details['distance']:.1f} km\")\n",
        "\n",
        "    print(\"\\nItems Purchased:\")\n",
        "    # Print table header for purchased items\n",
        "    print(\"{:<15} {:<10} {:<10}\".format(\"Item\", \"Quantity\", \"Cost (Rs)\"))\n",
        "    print(\"-\" * 35)\n",
        "\n",
        "    subtotal = 0 # Initialize subtotal\n",
        "    if not cart:\n",
        "        print(\"No items purchased.\") # Print message if the cart is empty\n",
        "    else:\n",
        "        # Iterate through the cart and display each item's details and cost\n",
        "        for item, details in cart.items():\n",
        "            item_cost = details['price'] * details['quantity']\n",
        "            subtotal += item_cost # Add item cost to subtotal\n",
        "            print(\"{:<15} {:<10} {:<10.2f}\".format(item.capitalize(), details['quantity'], item_cost))\n",
        "    print(\"-\" * 35)\n",
        "\n",
        "    print(f\"Subtotal: {subtotal:.2f} Rs\") # Print subtotal\n",
        "\n",
        "    # Calculate and print total bill including delivery charge if applicable\n",
        "    if delivery_charge is not None:\n",
        "        print(f\"Delivery Charge: {delivery_charge:.2f} Rs\")\n",
        "        total_bill = subtotal + delivery_charge\n",
        "    else:\n",
        "        print(\"Delivery: Not Available for this distance.\")\n",
        "        total_bill = subtotal # Total bill is just subtotal if delivery is not available\n",
        "\n",
        "    print(\"=\"*35)\n",
        "    print(f\"Total Amount: {total_bill:.2f} Rs\") # Print total amount\n",
        "    print(\"=\"*40)\n",
        "    print(\"\\nThank you for shopping with us!\")"
      ],
      "metadata": {
        "id": "1oXbZTRFF9eo"
      },
      "execution_count": 5,
      "outputs": []
    },
    {
      "cell_type": "markdown",
      "source": [
        "Main function to run the shopping cart application flow."
      ],
      "metadata": {
        "id": "ejzP_DInOCk1"
      }
    },
    {
      "cell_type": "code",
      "source": [
        "def main():\n",
        "    # Define the initial inventory as a dictionary\n",
        "    inventory = {\n",
        "        'apple': {'price': 20.00, 'quantity': 50},\n",
        "        'banana': {'price': 5.00, 'quantity': 100},\n",
        "        'milk': {'price': 60.00, 'quantity': 20},\n",
        "        'bread': {'price': 40.00, 'quantity': 30},\n",
        "        'eggs': {'price': 10.00, 'quantity': 120},\n",
        "        'chicken': {'price': 150.00, 'quantity': 10},\n",
        "        'rice': {'price': 80.00, 'quantity': 25}\n",
        "    }\n",
        "\n",
        "    print(\"Welcome to our Online Store!\")\n",
        "\n",
        "    display_menu(inventory) # Display the available items\n",
        "    customer_cart = get_customer_order(inventory) # Get the customer's order\n",
        "\n",
        "    # Exit the program if no items were added to the cart\n",
        "    if not customer_cart:\n",
        "        print(\"\\nNo items were added to the cart. Exiting.\")\n",
        "        sys.exit()\n",
        "\n",
        "    customer_info = get_customer_details() # Get customer details\n",
        "    delivery_dist = customer_info['distance'] # Get delivery distance\n",
        "    delivery_cost = calculate_delivery_charge(delivery_dist) # Calculate delivery charge\n",
        "\n",
        "    generate_bill(customer_cart, customer_info, delivery_cost) # Generate and display the final bill"
      ],
      "metadata": {
        "id": "g2I3rR9EGBxu"
      },
      "execution_count": 6,
      "outputs": []
    },
    {
      "cell_type": "markdown",
      "source": [
        "This block ensures that the main function is called only when the script is executed directly"
      ],
      "metadata": {
        "id": "DSQwisimOH-1"
      }
    },
    {
      "cell_type": "code",
      "source": [
        "if __name__ == \"__main__\":\n",
        "    main() # Call the main function to start the application"
      ],
      "metadata": {
        "colab": {
          "base_uri": "https://localhost:8080/"
        },
        "id": "XYwnASzjGEHN",
        "outputId": "33d12c9e-c54e-4718-bb6b-b8064a49bf4c"
      },
      "execution_count": 9,
      "outputs": [
        {
          "output_type": "stream",
          "name": "stdout",
          "text": [
            "Welcome to our Online Store!\n",
            "\n",
            "--- Available Items ---\n",
            "Item            Price (Rs) Quantity  \n",
            "-----------------------------------\n",
            "Apple           20.00      50        \n",
            "Banana          5.00       100       \n",
            "Milk            60.00      20        \n",
            "Bread           40.00      30        \n",
            "Eggs            10.00      120       \n",
            "Chicken         150.00     10        \n",
            "Rice            80.00      25        \n",
            "-----------------------------------\n",
            "Enter item name (or 'done' to finish): Apple\n",
            "Enter quantity for Apple: 2\n",
            "2 x Apple added to your cart.\n",
            "Enter item name (or 'done' to finish): milk\n",
            "Enter quantity for Milk: 21\n",
            "Sorry, only 20 units of 'Milk' are available.\n",
            "Would you like to purchase the available quantity? (yes/no): no\n",
            "Item not added to cart.\n",
            "Enter item name (or 'done' to finish): chiken\n",
            "'chiken' is not a valid item. Please try again.\n",
            "Enter item name (or 'done' to finish): 2\n",
            "'2' is not a valid item. Please try again.\n",
            "Enter item name (or 'done' to finish): chiken\n",
            "'chiken' is not a valid item. Please try again.\n",
            "Enter item name (or 'done' to finish): chicken\n",
            "Enter quantity for Chicken: 5\n",
            "5 x Chicken added to your cart.\n",
            "Enter item name (or 'done' to finish): chicken\n",
            "Enter quantity for Chicken: 5\n",
            "5 x Chicken added to your cart.\n",
            "Enter item name (or 'done' to finish): chicken\n",
            "Sorry, 'Chicken' is currently out of stock.\n",
            "Enter item name (or 'done' to finish): done\n",
            "\n",
            "--- Customer Details ---\n",
            "Enter your full name: kevin\n",
            "Enter your delivery address: iowa\n",
            "Enter delivery distance from store in km: 230\n",
            "\n",
            "========================================\n",
            "         --- FINAL BILL ---\n",
            "========================================\n",
            "\n",
            "Customer Details:\n",
            "Name: kevin\n",
            "Address: iowa\n",
            "Delivery Distance: 230.0 km\n",
            "\n",
            "Items Purchased:\n",
            "Item            Quantity   Cost (Rs) \n",
            "-----------------------------------\n",
            "Apple           2          40.00     \n",
            "Chicken         10         1500.00   \n",
            "-----------------------------------\n",
            "Subtotal: 1540.00 Rs\n",
            "Delivery: Not Available for this distance.\n",
            "===================================\n",
            "Total Amount: 1540.00 Rs\n",
            "========================================\n",
            "\n",
            "Thank you for shopping with us!\n"
          ]
        }
      ]
    }
  ]
}
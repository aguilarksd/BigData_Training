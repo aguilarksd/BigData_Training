{
  "nbformat": 4,
  "nbformat_minor": 0,
  "metadata": {
    "colab": {
      "provenance": [],
      "mount_file_id": "1mZZegPrNXg2vkoYOv63g71UCsCdbsJaZ",
      "authorship_tag": "ABX9TyOkqHQq10Lvl66U+zjAuQZT",
      "include_colab_link": true
    },
    "kernelspec": {
      "name": "python3",
      "display_name": "Python 3"
    },
    "language_info": {
      "name": "python"
    }
  },
  "cells": [
    {
      "cell_type": "markdown",
      "metadata": {
        "id": "view-in-github",
        "colab_type": "text"
      },
      "source": [
        "<a href=\"https://colab.research.google.com/github/aguilarksd/BigData_Training/blob/master/Pyspark.ipynb\" target=\"_parent\"><img src=\"https://colab.research.google.com/assets/colab-badge.svg\" alt=\"Open In Colab\"/></a>"
      ]
    },
    {
      "cell_type": "code",
      "execution_count": null,
      "metadata": {
        "colab": {
          "base_uri": "https://localhost:8080/"
        },
        "id": "bnIZegmGnZ34",
        "outputId": "a11e9be2-4457-4fbe-a334-f61dcf89f531"
      },
      "outputs": [
        {
          "output_type": "stream",
          "name": "stdout",
          "text": [
            "Requirement already satisfied: pyspark in /usr/local/lib/python3.11/dist-packages (3.5.1)\n",
            "Requirement already satisfied: py4j==0.10.9.7 in /usr/local/lib/python3.11/dist-packages (from pyspark) (0.10.9.7)\n"
          ]
        }
      ],
      "source": [
        "!pip install pyspark"
      ]
    },
    {
      "cell_type": "markdown",
      "source": [
        "# 1st"
      ],
      "metadata": {
        "id": "t2hC7s2kbTgW"
      }
    },
    {
      "cell_type": "code",
      "source": [
        "# Import necessary libraries\n",
        "from pyspark.sql import SparkSession\n",
        "\n",
        "# Create a SparkSession\n",
        "# This is the entry point for all PySpark applications\n",
        "spark = SparkSession.builder.appName(\"WordCountColab\").master(\"local[*]\").getOrCreate()\n",
        "\n",
        "# Create a sample text file in the Colab environment\n",
        "# This simulates your D:/input/data.txt file\n",
        "data = \"Hello PySpark Hello World\"\n",
        "with open(\"data.txt\", \"w\") as f:\n",
        "    f.write(data)\n",
        "\n",
        "# Read the text file into an RDD\n",
        "rdd1 = spark.sparkContext.textFile(\"data.txt\")\n",
        "\n",
        "# Perform the word count\n",
        "rdd2 = rdd1.flatMap(lambda line: line.split(\" \"))\n",
        "rdd3 = rdd2.map(lambda word: (word, 1))\n",
        "rdd4 = rdd3.reduceByKey(lambda a, b: a + b)\n",
        "\n",
        "# Collect and print the results\n",
        "results = rdd4.collect()\n",
        "for w, c in results:\n",
        "    print(f\"Word: {w}, Count: {c}\")\n",
        "\n",
        "# Stop the SparkSession\n",
        "spark.stop()"
      ],
      "metadata": {
        "colab": {
          "base_uri": "https://localhost:8080/"
        },
        "id": "2jNrK3-Xna0B",
        "outputId": "dacf6861-d07a-41ea-938b-07f09c919c46"
      },
      "execution_count": null,
      "outputs": [
        {
          "output_type": "stream",
          "name": "stdout",
          "text": [
            "Word: PySpark, Count: 1\n",
            "Word: Hello, Count: 2\n",
            "Word: World, Count: 1\n"
          ]
        }
      ]
    },
    {
      "cell_type": "markdown",
      "source": [
        "# 2nd"
      ],
      "metadata": {
        "id": "sMsVCtfpbXQC"
      }
    },
    {
      "cell_type": "code",
      "source": [
        "from pyspark.sql import SparkSession\n",
        "from pyspark.sql.types import StructType, StructField, StringType, DoubleType\n",
        "from pyspark.sql.functions import col, trim, lower, upper, when, avg, first, rank\n",
        "from pyspark.sql.window import Window\n"
      ],
      "metadata": {
        "id": "jLgWMmaBpcUh"
      },
      "execution_count": null,
      "outputs": []
    },
    {
      "cell_type": "code",
      "source": [
        "spark = SparkSession.builder.appName(\"dfdemo\").master(\"local[*]\").getOrCreate()"
      ],
      "metadata": {
        "id": "0_bL_0AjY_xp"
      },
      "execution_count": null,
      "outputs": []
    },
    {
      "cell_type": "markdown",
      "source": [
        "Create a data frame"
      ],
      "metadata": {
        "id": "zHHxEXXEdnNz"
      }
    },
    {
      "cell_type": "code",
      "source": [
        "productdf = spark.read.option(\"header\",True).option(\"inferSchema\",True).csv(\"drive/MyDrive/Data/products.csv\")"
      ],
      "metadata": {
        "id": "dtGf7-twZu0n"
      },
      "execution_count": null,
      "outputs": []
    },
    {
      "cell_type": "code",
      "source": [
        "productdf.show()"
      ],
      "metadata": {
        "colab": {
          "base_uri": "https://localhost:8080/"
        },
        "id": "l2EG0PjEaVrx",
        "outputId": "5ab710ce-97b8-41f2-b549-47b59d888b28"
      },
      "execution_count": null,
      "outputs": [
        {
          "output_type": "stream",
          "name": "stdout",
          "text": [
            "+--------------+--------------------+--------------------+-----------------+--------------------+--------------------+---------------+--------------------+------+\n",
            "|product_number|        product_name|    product_category|    product_scale|product_manufacturer| product_description|         length|               width|height|\n",
            "+--------------+--------------------+--------------------+-----------------+--------------------+--------------------+---------------+--------------------+------+\n",
            "|      S10_1678|1969 Harley David...|         Motorcycles|             1:10|     Min Lin Diecast|This replica feat...|           7933|               48.81|  95.7|\n",
            "|      S10_1949|1952 Alpine Renau...|        Classic Cars|             1:10|Classic Metal Cre...|Turnable front wh...|           7305|               98.58| 214.3|\n",
            "|      S10_2016|1996 Moto Guzzi 1...|         Motorcycles|             1:10|Highway 66 Mini C...|Official Moto Guz...|           6625|               68.99|118.94|\n",
            "|      S10_4698|2003 Harley-David...|         Motorcycles|             1:10|   Red Start Diecast|Model features, o...|           3252|               85.68|   136|\n",
            "|      S10_2699| precision diecas...| baked enamel finish| 1:10 scale model|    removable fender| seat and tank co...|           5582|               91.02|193.66|\n",
            "|      S10_4757| 1972 Alfa Romeo GTA|        Classic Cars|             1:10|Motor City Art Cl...|Features include:...|           3252|               85.68|   136|\n",
            "|      S10_4962|1962 LanciaA Delt...|        Classic Cars|             1:10| Second Gear Diecast|Features include:...|           6791|              103.42|147.74|\n",
            "|      S12_1099|   1968 Ford Mustang|        Classic Cars|             1:12|Autoart Studio De...|Hood, doors and t...|             68|               95.34|194.57|\n",
            "|      S12_1108|   2001 Ferrari Enzo|        Classic Cars|             1:12| Second Gear Diecast|Turnable front wh...|           3619|               95.59| 207.8|\n",
            "|      S12_1666|      1958 Setra Bus|    Trucks and Buses|             1:12|Welly Diecast Pro...|Model features 30...|           1579|                77.9|136.67|\n",
            "|      S12_2823|    2002 Suzuki XREO|         Motorcycles|             1:12|Unimax Art Galleries|Official logos an...|           9997|               66.27|150.62|\n",
            "|      S12_3148|  1969 Corvair Monza|        Classic Cars|             1:18|Welly Diecast Pro...|\"1:18 scale die-c...|     hood opens| trunk opens and ...|  6906|\n",
            "|      S12_3380|  1968 Dodge Charger|        Classic Cars|             1:12|Welly Diecast Pro...|1:12 scale model ...|           9123|               75.16|117.44|\n",
            "|      S12_3891|    1969 Ford Falcon|        Classic Cars|             1:12| Second Gear Diecast|Turnable front wh...|           1049|               83.05|173.02|\n",
            "|      S12_3990|1970 Plymouth Hem...|        Classic Cars|             1:12| Studio M Art Models|Very detailed 197...|           5663|               31.92|  79.8|\n",
            "|      S12_4473|   1957 Chevy Pickup|    Trucks and Buses|             1:12|       Exoto Designs|\"1:12 scale die-c...| Rubber wheels\"|                6125|  55.7|\n",
            "|      S12_4675|  1969 Dodge Charger|        Classic Cars|             1:12|Welly Diecast Pro...|Detailed model of...|           7323|               58.73|115.16|\n",
            "|      S18_1097|1940 Ford Pickup ...|    Trucks and Buses|             1:18| Studio M Art Models|This model featur...|           2613|               58.33|116.67|\n",
            "|      S18_1129|     1993 Mazda RX-7|        Classic Cars|             1:18|Highway 66 Mini C...|This model featur...|           3975|               83.51|141.54|\n",
            "|      S18_1342|1937 Lincoln Berline|        Vintage Cars|             1:18|Motor City Art Cl...|Features opening ...|           8693|               60.62|102.74|\n",
            "+--------------+--------------------+--------------------+-----------------+--------------------+--------------------+---------------+--------------------+------+\n",
            "only showing top 20 rows\n",
            "\n"
          ]
        }
      ]
    },
    {
      "cell_type": "markdown",
      "source": [
        "create with other way"
      ],
      "metadata": {
        "id": "-SIL_jFRoSnZ"
      }
    },
    {
      "cell_type": "code",
      "source": [
        "product_schema = StructType([\n",
        "    StructField(\"product_number\", StringType(), True),\n",
        "    StructField(\"product_name\", StringType(), True),\n",
        "    StructField(\"product_category\", StringType(), True),\n",
        "     StructField(\"product_scale\", StringType(), True),\n",
        "     StructField(\"product_Manufacturer\", StringType(), True),\n",
        "     StructField(\"product_description\", StringType(), True),\n",
        "     StructField(\"length\", DoubleType(), True),\n",
        "     StructField(\"width\", DoubleType(), True),\n",
        "    StructField(\"height\", DoubleType(), True)\n",
        "])"
      ],
      "metadata": {
        "id": "64mUGci2boDX"
      },
      "execution_count": null,
      "outputs": []
    },
    {
      "cell_type": "code",
      "source": [
        "productdf = spark.read.option(\"header\",True).schema(product_schema).csv(\"drive/MyDrive/Data/products.csv\")"
      ],
      "metadata": {
        "id": "zzPQB4aNc_pt"
      },
      "execution_count": null,
      "outputs": []
    },
    {
      "cell_type": "code",
      "source": [
        "productdf.show(5)"
      ],
      "metadata": {
        "colab": {
          "base_uri": "https://localhost:8080/"
        },
        "id": "zf0SzktXdUJV",
        "outputId": "40c94607-3ae5-4778-bc8f-4f7a0f628a91"
      },
      "execution_count": null,
      "outputs": [
        {
          "output_type": "stream",
          "name": "stdout",
          "text": [
            "+--------------+--------------------+--------------------+-----------------+--------------------+--------------------+------+-----+------+\n",
            "|product_number|        product_name|    product_category|    product_scale|product_Manufacturer| product_description|length|width|height|\n",
            "+--------------+--------------------+--------------------+-----------------+--------------------+--------------------+------+-----+------+\n",
            "|      S10_1678|1969 Harley David...|         Motorcycles|             1:10|     Min Lin Diecast|This replica feat...|7933.0|48.81|  95.7|\n",
            "|      S10_1949|1952 Alpine Renau...|        Classic Cars|             1:10|Classic Metal Cre...|Turnable front wh...|7305.0|98.58| 214.3|\n",
            "|      S10_2016|1996 Moto Guzzi 1...|         Motorcycles|             1:10|Highway 66 Mini C...|Official Moto Guz...|6625.0|68.99|118.94|\n",
            "|      S10_4698|2003 Harley-David...|         Motorcycles|             1:10|   Red Start Diecast|Model features, o...|3252.0|85.68| 136.0|\n",
            "|      S10_2699| precision diecas...| baked enamel finish| 1:10 scale model|    removable fender| seat and tank co...|5582.0|91.02|193.66|\n",
            "+--------------+--------------------+--------------------+-----------------+--------------------+--------------------+------+-----+------+\n",
            "only showing top 5 rows\n",
            "\n"
          ]
        }
      ]
    },
    {
      "cell_type": "markdown",
      "source": [
        "# Cleaning"
      ],
      "metadata": {
        "id": "oYN66-eUoFWT"
      }
    },
    {
      "cell_type": "code",
      "source": [
        "casteddf = productdf.withColumn(\"length\", col(\"length\").cast(\"int\"))"
      ],
      "metadata": {
        "id": "pNwtU91Ye3p9"
      },
      "execution_count": null,
      "outputs": []
    },
    {
      "cell_type": "code",
      "source": [
        "casteddf.dropDuplicates([\"product_number\"]).show(5)"
      ],
      "metadata": {
        "colab": {
          "base_uri": "https://localhost:8080/"
        },
        "id": "H-10EwTagxNI",
        "outputId": "d068b6d6-8d1a-40f2-91f0-b99ac9771e4b"
      },
      "execution_count": null,
      "outputs": [
        {
          "output_type": "stream",
          "name": "stdout",
          "text": [
            "+--------------+--------------------+--------------------+-----------------+--------------------+--------------------+------+-----+------+\n",
            "|product_number|        product_name|    product_category|    product_scale|product_Manufacturer| product_description|length|width|height|\n",
            "+--------------+--------------------+--------------------+-----------------+--------------------+--------------------+------+-----+------+\n",
            "|      S10_1678|1969 Harley David...|         Motorcycles|             1:10|     Min Lin Diecast|This replica feat...|  7933|48.81|  95.7|\n",
            "|      S10_1949|1952 Alpine Renau...|        Classic Cars|             1:10|Classic Metal Cre...|Turnable front wh...|  7305|98.58| 214.3|\n",
            "|      S10_2016|1996 Moto Guzzi 1...|         Motorcycles|             1:10|Highway 66 Mini C...|Official Moto Guz...|  6625|68.99|118.94|\n",
            "|      S10_2699| precision diecas...| baked enamel finish| 1:10 scale model|    removable fender| seat and tank co...|  5582|91.02|193.66|\n",
            "|      S10_4698|2003 Harley-David...|         Motorcycles|             1:10|   Red Start Diecast|Model features, o...|  3252|85.68| 136.0|\n",
            "+--------------+--------------------+--------------------+-----------------+--------------------+--------------------+------+-----+------+\n",
            "only showing top 5 rows\n",
            "\n"
          ]
        }
      ]
    },
    {
      "cell_type": "code",
      "source": [
        "casteddf.show(2)"
      ],
      "metadata": {
        "colab": {
          "base_uri": "https://localhost:8080/"
        },
        "id": "fTvHto0ygfYL",
        "outputId": "4c8ade60-d71d-449b-e2d9-2f81c3c446ef"
      },
      "execution_count": null,
      "outputs": [
        {
          "output_type": "stream",
          "name": "stdout",
          "text": [
            "+--------------+--------------------+--------------------+-----------------+--------------------+--------------------+------+-----+------+\n",
            "|product_number|        product_name|    product_category|    product_scale|product_Manufacturer| product_description|length|width|height|\n",
            "+--------------+--------------------+--------------------+-----------------+--------------------+--------------------+------+-----+------+\n",
            "|      S10_1678|1969 Harley David...|         Motorcycles|             1:10|     Min Lin Diecast|This replica feat...|  7933|48.81|  95.7|\n",
            "|      S10_1949|1952 Alpine Renau...|        Classic Cars|             1:10|Classic Metal Cre...|Turnable front wh...|  7305|98.58| 214.3|\n",
            "|      S10_2016|1996 Moto Guzzi 1...|         Motorcycles|             1:10|Highway 66 Mini C...|Official Moto Guz...|  6625|68.99|118.94|\n",
            "|      S10_4698|2003 Harley-David...|         Motorcycles|             1:10|   Red Start Diecast|Model features, o...|  3252|85.68| 136.0|\n",
            "|      S10_2699| precision diecas...| baked enamel finish| 1:10 scale model|    removable fender| seat and tank co...|  5582|91.02|193.66|\n",
            "+--------------+--------------------+--------------------+-----------------+--------------------+--------------------+------+-----+------+\n",
            "only showing top 5 rows\n",
            "\n"
          ]
        }
      ]
    },
    {
      "cell_type": "markdown",
      "source": [
        "missin values"
      ],
      "metadata": {
        "id": "HFOjwl0Qiqhj"
      }
    },
    {
      "cell_type": "code",
      "source": [
        "casteddf = casteddf.na.fill(\"unknown\",subset=[\"product_name\",\"product_category\"])\n",
        "casteddf = casteddf.na.fill(0,subset=[\"length\",\"width\"])"
      ],
      "metadata": {
        "id": "UKEiKvRQh5Ul"
      },
      "execution_count": null,
      "outputs": []
    },
    {
      "cell_type": "code",
      "source": [
        "casteddf.withColumn(\"product_name\",trim(lower(col(\"product_name\"))))\\\n",
        ".withColumn(\"product_category\",trim(upper(col(\"product_category\")))).show(2)"
      ],
      "metadata": {
        "colab": {
          "base_uri": "https://localhost:8080/"
        },
        "id": "P3AJRN_CiqC9",
        "outputId": "5a19df25-1e9e-4136-cd7e-8d0445e8ebfa"
      },
      "execution_count": null,
      "outputs": [
        {
          "output_type": "stream",
          "name": "stdout",
          "text": [
            "+--------------+--------------------+----------------+-------------+--------------------+--------------------+------+-----+------+\n",
            "|product_number|        product_name|product_category|product_scale|product_Manufacturer| product_description|length|width|height|\n",
            "+--------------+--------------------+----------------+-------------+--------------------+--------------------+------+-----+------+\n",
            "|      S10_1678|1969 harley david...|     MOTORCYCLES|         1:10|     Min Lin Diecast|This replica feat...|  7933|48.81|  95.7|\n",
            "|      S10_1949|1952 alpine renau...|    CLASSIC CARS|         1:10|Classic Metal Cre...|Turnable front wh...|  7305|98.58| 214.3|\n",
            "+--------------+--------------------+----------------+-------------+--------------------+--------------------+------+-----+------+\n",
            "only showing top 2 rows\n",
            "\n"
          ]
        }
      ]
    },
    {
      "cell_type": "markdown",
      "source": [
        "predicate push down"
      ],
      "metadata": {
        "id": "fhMaevYNntJR"
      }
    },
    {
      "cell_type": "code",
      "source": [
        "validdf = casteddf.filter((col(\"length\")>0) & (col(\"width\")>0))"
      ],
      "metadata": {
        "id": "ROxkt3qzlL-I"
      },
      "execution_count": null,
      "outputs": []
    },
    {
      "cell_type": "markdown",
      "source": [
        "column pruning"
      ],
      "metadata": {
        "id": "Q-uCqkYnnwUp"
      }
    },
    {
      "cell_type": "code",
      "source": [
        "validdf.drop(\"product_description\",\"product_scale\").show(5)"
      ],
      "metadata": {
        "colab": {
          "base_uri": "https://localhost:8080/"
        },
        "id": "fZpQ7T2SmixL",
        "outputId": "3d9033c4-6ce3-4fa2-92c8-120386af30b5"
      },
      "execution_count": null,
      "outputs": [
        {
          "output_type": "stream",
          "name": "stdout",
          "text": [
            "+--------------+--------------------+--------------------+--------------------+------+-----+------+\n",
            "|product_number|        product_name|    product_category|product_Manufacturer|length|width|height|\n",
            "+--------------+--------------------+--------------------+--------------------+------+-----+------+\n",
            "|      S10_1678|1969 Harley David...|         Motorcycles|     Min Lin Diecast|  7933|48.81|  95.7|\n",
            "|      S10_1949|1952 Alpine Renau...|        Classic Cars|Classic Metal Cre...|  7305|98.58| 214.3|\n",
            "|      S10_2016|1996 Moto Guzzi 1...|         Motorcycles|Highway 66 Mini C...|  6625|68.99|118.94|\n",
            "|      S10_4698|2003 Harley-David...|         Motorcycles|   Red Start Diecast|  3252|85.68| 136.0|\n",
            "|      S10_2699| precision diecas...| baked enamel finish|    removable fender|  5582|91.02|193.66|\n",
            "+--------------+--------------------+--------------------+--------------------+------+-----+------+\n",
            "only showing top 5 rows\n",
            "\n"
          ]
        }
      ]
    },
    {
      "cell_type": "markdown",
      "source": [],
      "metadata": {
        "id": "vVX0EwHBoVfc"
      }
    },
    {
      "cell_type": "code",
      "source": [
        "validdf = validdf.withColumn(\"product_size\", when(col(\"length\")<1000,\"small\")\\\n",
        ".when(col(\"length\")>=5000,\"medium\")\\\n",
        ".otherwise(\"large\"))"
      ],
      "metadata": {
        "id": "xLza_ZYDoWmi"
      },
      "execution_count": null,
      "outputs": []
    },
    {
      "cell_type": "code",
      "source": [
        "validdf.show(5)"
      ],
      "metadata": {
        "colab": {
          "base_uri": "https://localhost:8080/"
        },
        "id": "f3Yww-j02Xeg",
        "outputId": "2fb0628a-ffe9-4f20-960e-36c772bc205e"
      },
      "execution_count": null,
      "outputs": [
        {
          "output_type": "stream",
          "name": "stdout",
          "text": [
            "+--------------+--------------------+--------------------+-----------------+--------------------+--------------------+------+-----+------+------------+\n",
            "|product_number|        product_name|    product_category|    product_scale|product_Manufacturer| product_description|length|width|height|product_size|\n",
            "+--------------+--------------------+--------------------+-----------------+--------------------+--------------------+------+-----+------+------------+\n",
            "|      S10_1678|1969 Harley David...|         Motorcycles|             1:10|     Min Lin Diecast|This replica feat...|  7933|48.81|  95.7|      medium|\n",
            "|      S10_1949|1952 Alpine Renau...|        Classic Cars|             1:10|Classic Metal Cre...|Turnable front wh...|  7305|98.58| 214.3|      medium|\n",
            "|      S10_2016|1996 Moto Guzzi 1...|         Motorcycles|             1:10|Highway 66 Mini C...|Official Moto Guz...|  6625|68.99|118.94|      medium|\n",
            "|      S10_4698|2003 Harley-David...|         Motorcycles|             1:10|   Red Start Diecast|Model features, o...|  3252|85.68| 136.0|       large|\n",
            "|      S10_2699| precision diecas...| baked enamel finish| 1:10 scale model|    removable fender| seat and tank co...|  5582|91.02|193.66|      medium|\n",
            "+--------------+--------------------+--------------------+-----------------+--------------------+--------------------+------+-----+------+------------+\n",
            "only showing top 5 rows\n",
            "\n"
          ]
        }
      ]
    },
    {
      "cell_type": "code",
      "source": [
        "validdf.groupBy(\"product_size\").avg(\"length\").show(4)"
      ],
      "metadata": {
        "colab": {
          "base_uri": "https://localhost:8080/"
        },
        "id": "OFQ3CNfgrUDi",
        "outputId": "2bce2ee2-7cf0-4586-e4de-9e27f8ae12dc"
      },
      "execution_count": null,
      "outputs": [
        {
          "output_type": "stream",
          "name": "stdout",
          "text": [
            "+------------+------------------+\n",
            "|product_size|       avg(length)|\n",
            "+------------+------------------+\n",
            "|      medium| 7584.773584905661|\n",
            "|       small|480.15384615384613|\n",
            "|       large|            2926.0|\n",
            "+------------+------------------+\n",
            "\n"
          ]
        }
      ]
    },
    {
      "cell_type": "code",
      "source": [
        "validdf.groupBy(\"product_size\").agg(avg(\"length\").alias(\"avgLen\"),avg(\"width\").alias(\"avgwid\")).show(4)"
      ],
      "metadata": {
        "colab": {
          "base_uri": "https://localhost:8080/"
        },
        "id": "XYDtPUG9sI21",
        "outputId": "84094a1a-635d-4c94-d368-b2a22a399585"
      },
      "execution_count": null,
      "outputs": [
        {
          "output_type": "stream",
          "name": "stdout",
          "text": [
            "+------------+------------------+-----------------+\n",
            "|product_size|            avgLen|           avgwid|\n",
            "+------------+------------------+-----------------+\n",
            "|      medium| 7584.773584905661|55.09547169811321|\n",
            "|       small|480.15384615384613|47.08846153846154|\n",
            "|       large|            2926.0|           56.165|\n",
            "+------------+------------------+-----------------+\n",
            "\n"
          ]
        }
      ]
    },
    {
      "cell_type": "code",
      "source": [
        "validdf.groupBy(\"product_category\").pivot(\"product_size\").agg(first(\"product_name\")).show(4)"
      ],
      "metadata": {
        "colab": {
          "base_uri": "https://localhost:8080/"
        },
        "id": "Zk4CyOmhsX25",
        "outputId": "3651c18c-7944-4723-ce6b-d779ce78aa49"
      },
      "execution_count": null,
      "outputs": [
        {
          "output_type": "stream",
          "name": "stdout",
          "text": [
            "+--------------------+--------------------+--------------------+--------------------+\n",
            "|    product_category|               large|              medium|               small|\n",
            "+--------------------+--------------------+--------------------+--------------------+\n",
            "| baked enamel finish|                NULL| precision diecas...|                NULL|\n",
            "|        Classic Cars| 1972 Alfa Romeo GTA|1952 Alpine Renau...|   1968 Ford Mustang|\n",
            "|         Motorcycles|2003 Harley-David...|1969 Harley David...|1960 BSA Gold Sta...|\n",
            "|              Planes|1928 British Roya...|1980s Black Hawk ...|      P-51-D Mustang|\n",
            "+--------------------+--------------------+--------------------+--------------------+\n",
            "only showing top 4 rows\n",
            "\n"
          ]
        }
      ]
    },
    {
      "cell_type": "markdown",
      "source": [
        "ranking"
      ],
      "metadata": {
        "id": "BoHZMTmU3fIV"
      }
    },
    {
      "cell_type": "code",
      "source": [
        "window1 = Window.partitionBy(\"product_category\").orderBy(col(\"length\").desc())\n",
        "validdf.withColumn(\"rank\",rank().over(window1)).show(5)"
      ],
      "metadata": {
        "colab": {
          "base_uri": "https://localhost:8080/"
        },
        "id": "C6lPBwZ13dQG",
        "outputId": "0391b0b2-6622-48c5-bb87-420ade1fb5d4"
      },
      "execution_count": null,
      "outputs": [
        {
          "output_type": "stream",
          "name": "stdout",
          "text": [
            "+--------------+--------------------+--------------------+-----------------+--------------------+--------------------+------+-----+------+------------+----+\n",
            "|product_number|        product_name|    product_category|    product_scale|product_Manufacturer| product_description|length|width|height|product_size|rank|\n",
            "+--------------+--------------------+--------------------+-----------------+--------------------+--------------------+------+-----+------+------------+----+\n",
            "|      S10_2699| precision diecas...| baked enamel finish| 1:10 scale model|    removable fender| seat and tank co...|  5582|91.02|193.66|      medium|   1|\n",
            "|      S18_1984|    1995 Honda Civic|        Classic Cars|             1:18|     Min Lin Diecast|This model featur...|  9772|93.89|142.25|      medium|   1|\n",
            "|      S24_3432| 2002 Chevy Corvette|        Classic Cars|             1:24|Gearbox Collectibles|The operating par...|  9446|62.11|107.08|      medium|   2|\n",
            "|      S18_3482|1976 Ford Gran To...|        Classic Cars|             1:18|Gearbox Collectibles|\"Highly detailed ...|  9127|73.49|146.99|      medium|   3|\n",
            "|      S12_3380|  1968 Dodge Charger|        Classic Cars|             1:12|Welly Diecast Pro...|1:12 scale model ...|  9123|75.16|117.44|      medium|   4|\n",
            "+--------------+--------------------+--------------------+-----------------+--------------------+--------------------+------+-----+------+------------+----+\n",
            "only showing top 5 rows\n",
            "\n"
          ]
        }
      ]
    },
    {
      "cell_type": "code",
      "source": [
        "validdf = validdf.withColumn(\"rank\",rank().over(window1))"
      ],
      "metadata": {
        "id": "ts2cxDWu44lh"
      },
      "execution_count": null,
      "outputs": []
    },
    {
      "cell_type": "code",
      "source": [
        "validdf.filter(col(\"rank\")==1).show(2)"
      ],
      "metadata": {
        "colab": {
          "base_uri": "https://localhost:8080/"
        },
        "id": "gYjvza3V4rbw",
        "outputId": "ad5d92ed-3e0c-4899-fff0-6883f7791961"
      },
      "execution_count": null,
      "outputs": [
        {
          "output_type": "stream",
          "name": "stdout",
          "text": [
            "+--------------+--------------------+--------------------+-----------------+--------------------+--------------------+------+-----+------+------------+----+\n",
            "|product_number|        product_name|    product_category|    product_scale|product_Manufacturer| product_description|length|width|height|product_size|rank|\n",
            "+--------------+--------------------+--------------------+-----------------+--------------------+--------------------+------+-----+------+------------+----+\n",
            "|      S10_2699| precision diecas...| baked enamel finish| 1:10 scale model|    removable fender| seat and tank co...|  5582|91.02|193.66|      medium|   1|\n",
            "|      S18_1984|    1995 Honda Civic|        Classic Cars|             1:18|     Min Lin Diecast|This model featur...|  9772|93.89|142.25|      medium|   1|\n",
            "+--------------+--------------------+--------------------+-----------------+--------------------+--------------------+------+-----+------+------------+----+\n",
            "only showing top 2 rows\n",
            "\n"
          ]
        }
      ]
    },
    {
      "cell_type": "code",
      "source": [
        "validdf.show(5)"
      ],
      "metadata": {
        "colab": {
          "base_uri": "https://localhost:8080/"
        },
        "id": "uNuS-kyZ8TGm",
        "outputId": "b04402e9-e9b5-4974-a0b5-1b0850c34723"
      },
      "execution_count": null,
      "outputs": [
        {
          "output_type": "stream",
          "name": "stdout",
          "text": [
            "+--------------+--------------------+--------------------+-----------------+--------------------+--------------------+------+-----+------+------------+----+\n",
            "|product_number|        product_name|    product_category|    product_scale|product_Manufacturer| product_description|length|width|height|product_size|rank|\n",
            "+--------------+--------------------+--------------------+-----------------+--------------------+--------------------+------+-----+------+------------+----+\n",
            "|      S10_2699| precision diecas...| baked enamel finish| 1:10 scale model|    removable fender| seat and tank co...|  5582|91.02|193.66|      medium|   1|\n",
            "|      S18_1984|    1995 Honda Civic|        Classic Cars|             1:18|     Min Lin Diecast|This model featur...|  9772|93.89|142.25|      medium|   1|\n",
            "|      S24_3432| 2002 Chevy Corvette|        Classic Cars|             1:24|Gearbox Collectibles|The operating par...|  9446|62.11|107.08|      medium|   2|\n",
            "|      S18_3482|1976 Ford Gran To...|        Classic Cars|             1:18|Gearbox Collectibles|\"Highly detailed ...|  9127|73.49|146.99|      medium|   3|\n",
            "|      S12_3380|  1968 Dodge Charger|        Classic Cars|             1:12|Welly Diecast Pro...|1:12 scale model ...|  9123|75.16|117.44|      medium|   4|\n",
            "+--------------+--------------------+--------------------+-----------------+--------------------+--------------------+------+-----+------+------------+----+\n",
            "only showing top 5 rows\n",
            "\n"
          ]
        }
      ]
    },
    {
      "cell_type": "code",
      "source": [
        "# len >1000 and width >1000 - large and wide\n",
        "# len >1000 and width <1000 - large and narrow\n",
        "# len <=1000 and width >1000 - small and wide\n",
        "# otherwise - small and narrow\n",
        "validdf.withColumn(\"product_size\",\n",
        "  when((col(\"length\") > 1000) & (col(\"width\") > 1000),\"large and wide\")\\\n",
        "  .when((col(\"length\") > 1000) & (col(\"width\") < 1000),\"large and narrow\")\\\n",
        "  .when((col(\"length\") <= 1000) & (col(\"width\") > 1000),\"small and wide\")\\\n",
        "  .otherwise(\"small and narrow \")\n",
        ").show(5)\n"
      ],
      "metadata": {
        "colab": {
          "base_uri": "https://localhost:8080/"
        },
        "id": "kqz7Ztaw5zCl",
        "outputId": "815068fb-5677-4598-fa16-2f9a6af1dfc1"
      },
      "execution_count": null,
      "outputs": [
        {
          "output_type": "stream",
          "name": "stdout",
          "text": [
            "+--------------+--------------------+--------------------+-----------------+--------------------+--------------------+------+-----+------+----------------+----+\n",
            "|product_number|        product_name|    product_category|    product_scale|product_Manufacturer| product_description|length|width|height|    product_size|rank|\n",
            "+--------------+--------------------+--------------------+-----------------+--------------------+--------------------+------+-----+------+----------------+----+\n",
            "|      S10_2699| precision diecas...| baked enamel finish| 1:10 scale model|    removable fender| seat and tank co...|  5582|91.02|193.66|large and narrow|   1|\n",
            "|      S18_1984|    1995 Honda Civic|        Classic Cars|             1:18|     Min Lin Diecast|This model featur...|  9772|93.89|142.25|large and narrow|   1|\n",
            "|      S24_3432| 2002 Chevy Corvette|        Classic Cars|             1:24|Gearbox Collectibles|The operating par...|  9446|62.11|107.08|large and narrow|   2|\n",
            "|      S18_3482|1976 Ford Gran To...|        Classic Cars|             1:18|Gearbox Collectibles|\"Highly detailed ...|  9127|73.49|146.99|large and narrow|   3|\n",
            "|      S12_3380|  1968 Dodge Charger|        Classic Cars|             1:12|Welly Diecast Pro...|1:12 scale model ...|  9123|75.16|117.44|large and narrow|   4|\n",
            "+--------------+--------------------+--------------------+-----------------+--------------------+--------------------+------+-----+------+----------------+----+\n",
            "only showing top 5 rows\n",
            "\n"
          ]
        }
      ]
    }
  ]
}